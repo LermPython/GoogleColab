{
  "nbformat": 4,
  "nbformat_minor": 0,
  "metadata": {
    "colab": {
      "provenance": [],
      "authorship_tag": "ABX9TyOuAnU+hoI/76wG/Xazdkfq",
      "include_colab_link": true
    },
    "kernelspec": {
      "name": "python3",
      "display_name": "Python 3"
    },
    "language_info": {
      "name": "python"
    }
  },
  "cells": [
    {
      "cell_type": "markdown",
      "metadata": {
        "id": "view-in-github",
        "colab_type": "text"
      },
      "source": [
        "<a href=\"https://colab.research.google.com/github/LermPython/GoogleColab/blob/main/Pruebas%20Python.ipynb\" target=\"_parent\"><img src=\"https://colab.research.google.com/assets/colab-badge.svg\" alt=\"Open In Colab\"/></a>"
      ]
    },
    {
      "cell_type": "code",
      "execution_count": 4,
      "metadata": {
        "id": "STCzFhhiFr1k",
        "colab": {
          "base_uri": "https://localhost:8080/"
        },
        "outputId": "0eafb3d8-9292-4655-a8ef-a0e51a1950fa"
      },
      "outputs": [
        {
          "output_type": "stream",
          "name": "stdout",
          "text": [
            "Hola Mundo\n",
            "30\n"
          ]
        }
      ],
      "source": [
        "print(\"Hola Mundo\")\n",
        "a=10\n",
        "b=20\n",
        "print(a+b)"
      ]
    }
  ]
}